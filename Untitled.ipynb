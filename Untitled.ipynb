{
 "cells": [
  {
   "cell_type": "code",
   "execution_count": 12,
   "metadata": {},
   "outputs": [
    {
     "data": {
      "text/plain": [
       "float"
      ]
     },
     "execution_count": 12,
     "metadata": {},
     "output_type": "execute_result"
    }
   ],
   "source": [
    "import psycopg2\n",
    "mypath=\"dbname='testdb' user='sergetoure' password='Footballeur1985#$' host='127.0.0.1' port='5432'\"\n",
    "conn=psycopg2.connect(mypath)\n",
    "cur=conn.cursor()\n",
    "cur.execute(\"SELECT size from sizeapp\")\n",
    "data=cur.fetchall()\n",
    "data\n",
    "f=list()\n",
    "for i in data:\n",
    "    f.extend(list(i))\n",
    "avg = float(sum(f)/len(f))\n",
    "type(avg)\n"
   ]
  },
  {
   "cell_type": "code",
   "execution_count": null,
   "metadata": {},
   "outputs": [],
   "source": []
  }
 ],
 "metadata": {
  "kernelspec": {
   "display_name": "Python 3",
   "language": "python",
   "name": "python3"
  },
  "language_info": {
   "codemirror_mode": {
    "name": "ipython",
    "version": 3
   },
   "file_extension": ".py",
   "mimetype": "text/x-python",
   "name": "python",
   "nbconvert_exporter": "python",
   "pygments_lexer": "ipython3",
   "version": "3.6.3"
  }
 },
 "nbformat": 4,
 "nbformat_minor": 2
}
